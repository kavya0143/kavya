{
  "nbformat": 4,
  "nbformat_minor": 0,
  "metadata": {
    "colab": {
      "provenance": [],
      "authorship_tag": "ABX9TyN3vjvPOQEaba9RV7NoEF1z",
      "include_colab_link": true
    },
    "kernelspec": {
      "name": "python3",
      "display_name": "Python 3"
    },
    "language_info": {
      "name": "python"
    }
  },
  "cells": [
    {
      "cell_type": "markdown",
      "metadata": {
        "id": "view-in-github",
        "colab_type": "text"
      },
      "source": [
        "<a href=\"https://colab.research.google.com/github/kavya0143/kavya/blob/main/Untitled7.ipynb\" target=\"_parent\"><img src=\"https://colab.research.google.com/assets/colab-badge.svg\" alt=\"Open In Colab\"/></a>"
      ]
    },
    {
      "cell_type": "code",
      "execution_count": 1,
      "metadata": {
        "id": "0OQvcv6m7HcI"
      },
      "outputs": [],
      "source": [
        "m1=[48,73,51,65,87]\n",
        "m2=[55,85,70,69,90]\n",
        "m3=[84,68,95,74,67]"
      ]
    },
    {
      "cell_type": "code",
      "source": [
        "n1=len(m1)\n",
        "n2=len(m2)\n",
        "n3=len(m3)\n",
        "n=n1+n2+n3\n",
        "n"
      ],
      "metadata": {
        "colab": {
          "base_uri": "https://localhost:8080/"
        },
        "id": "NAZwgV747fI7",
        "outputId": "27fc836d-b3b0-42ea-9ae4-5f1bf1db8b0e"
      },
      "execution_count": 2,
      "outputs": [
        {
          "output_type": "execute_result",
          "data": {
            "text/plain": [
              "15"
            ]
          },
          "metadata": {},
          "execution_count": 2
        }
      ]
    },
    {
      "cell_type": "code",
      "source": [
        "t1=sum(m1)\n",
        "t2=sum(m2)\n",
        "t3=sum(m3)\n",
        "print(t1)\n",
        "print(t2)\n",
        "print(t3)"
      ],
      "metadata": {
        "colab": {
          "base_uri": "https://localhost:8080/"
        },
        "id": "zmuxRlYb71Oo",
        "outputId": "14136363-d497-435d-9bb2-5e8a6e8bf558"
      },
      "execution_count": 3,
      "outputs": [
        {
          "output_type": "stream",
          "name": "stdout",
          "text": [
            "324\n",
            "369\n",
            "388\n"
          ]
        }
      ]
    },
    {
      "cell_type": "code",
      "source": [
        "x=t1+t2+t3\n",
        "x"
      ],
      "metadata": {
        "colab": {
          "base_uri": "https://localhost:8080/"
        },
        "id": "_r--IMpT8GXv",
        "outputId": "7da8a839-ab58-4992-c047-ad52bc139194"
      },
      "execution_count": 4,
      "outputs": [
        {
          "output_type": "execute_result",
          "data": {
            "text/plain": [
              "1081"
            ]
          },
          "metadata": {},
          "execution_count": 4
        }
      ]
    },
    {
      "cell_type": "code",
      "source": [
        "ssb=(((t1**2)/n1)+((t2**2)/n2)+((t3**2)/n3))-((x**2)/n)\n",
        "ssb"
      ],
      "metadata": {
        "colab": {
          "base_uri": "https://localhost:8080/"
        },
        "id": "U8kN1imo8Vsw",
        "outputId": "05f3ab82-03d6-4b7b-9b98-5e37340a0d98"
      },
      "execution_count": 20,
      "outputs": [
        {
          "output_type": "execute_result",
          "data": {
            "text/plain": [
              "432.1333333333314"
            ]
          },
          "metadata": {},
          "execution_count": 20
        }
      ]
    },
    {
      "cell_type": "code",
      "source": [
        "m=m1+m2+m3\n",
        "summ=0\n",
        "s=0\n",
        "for i in m:\n",
        "  summ=summ+i\n",
        "  s=s+(i**2)\n",
        "print(s)\n"
      ],
      "metadata": {
        "colab": {
          "base_uri": "https://localhost:8080/"
        },
        "id": "kxHwP2nv-Twp",
        "outputId": "92e067ee-ac9c-44af-b4d9-2ade06617e02"
      },
      "execution_count": 25,
      "outputs": [
        {
          "output_type": "stream",
          "name": "stdout",
          "text": [
            "80709\n"
          ]
        }
      ]
    },
    {
      "cell_type": "code",
      "source": [
        "ss=(((t1**2)/n1)+((t2**2)/n2)+((t3**2)/n3))\n",
        "ss"
      ],
      "metadata": {
        "colab": {
          "base_uri": "https://localhost:8080/"
        },
        "id": "e5WUxhQoGCoD",
        "outputId": "ffb4133d-5306-46f8-aebe-c22e2932fcd1"
      },
      "execution_count": 31,
      "outputs": [
        {
          "output_type": "execute_result",
          "data": {
            "text/plain": [
              "78336.2"
            ]
          },
          "metadata": {},
          "execution_count": 31
        }
      ]
    },
    {
      "cell_type": "code",
      "source": [
        "ssw=(s-ss)\n",
        "ssw"
      ],
      "metadata": {
        "colab": {
          "base_uri": "https://localhost:8080/"
        },
        "id": "4bDjVpYbAmCA",
        "outputId": "4f815378-2f0f-4ab3-8e3c-bf0c024e0c53"
      },
      "execution_count": 32,
      "outputs": [
        {
          "output_type": "execute_result",
          "data": {
            "text/plain": [
              "2372.800000000003"
            ]
          },
          "metadata": {},
          "execution_count": 32
        }
      ]
    },
    {
      "cell_type": "code",
      "source": [
        "sst=ssb+ssw\n",
        "print(sst)"
      ],
      "metadata": {
        "colab": {
          "base_uri": "https://localhost:8080/"
        },
        "id": "0mBPuhEDC64d",
        "outputId": "5aa32bb4-bb51-440a-d2ff-782acc273016"
      },
      "execution_count": 27,
      "outputs": [
        {
          "output_type": "stream",
          "name": "stdout",
          "text": [
            "2804.9333333333343\n"
          ]
        }
      ]
    },
    {
      "cell_type": "code",
      "source": [
        "msb=(ssb)/(3-1)\n",
        "msb"
      ],
      "metadata": {
        "colab": {
          "base_uri": "https://localhost:8080/"
        },
        "id": "v8BIqZbSDGS1",
        "outputId": "a626ef45-0c56-4b6f-819a-27c3ef29ad2f"
      },
      "execution_count": 28,
      "outputs": [
        {
          "output_type": "execute_result",
          "data": {
            "text/plain": [
              "216.0666666666657"
            ]
          },
          "metadata": {},
          "execution_count": 28
        }
      ]
    },
    {
      "cell_type": "code",
      "source": [
        "msw=(ssw)/(n-3)\n",
        "msw"
      ],
      "metadata": {
        "colab": {
          "base_uri": "https://localhost:8080/"
        },
        "id": "ciAbNTPZDd7G",
        "outputId": "e4ee3dd2-966d-4ae8-d9db-2574c7e8bff7"
      },
      "execution_count": 29,
      "outputs": [
        {
          "output_type": "execute_result",
          "data": {
            "text/plain": [
              "197.73333333333358"
            ]
          },
          "metadata": {},
          "execution_count": 29
        }
      ]
    },
    {
      "cell_type": "code",
      "source": [
        "F=(msb)/(msw)\n",
        "F"
      ],
      "metadata": {
        "colab": {
          "base_uri": "https://localhost:8080/"
        },
        "id": "RfLFjsKbDjnU",
        "outputId": "fa1462a6-7d12-48a8-e716-6d5d3c26f825"
      },
      "execution_count": 30,
      "outputs": [
        {
          "output_type": "execute_result",
          "data": {
            "text/plain": [
              "1.09271746459878"
            ]
          },
          "metadata": {},
          "execution_count": 30
        }
      ]
    }
  ]
}